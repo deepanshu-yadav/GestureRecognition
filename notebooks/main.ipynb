{
 "cells": [
  {
   "cell_type": "code",
   "execution_count": null,
   "metadata": {},
   "outputs": [],
   "source": [
    "from utils.download_dataset import download_data\n",
    "\n",
    "sas_url = \"<replace with token sent in the chat>\"\n",
    "\n",
    "download_data(sas_url)"
   ]
  }
 ],
 "metadata": {
  "language_info": {
   "name": "python"
  }
 },
 "nbformat": 4,
 "nbformat_minor": 2
}
